{
 "cells": [
  {
   "cell_type": "code",
   "execution_count": 1,
   "id": "8180c12a-ef91-46eb-9ac2-bf6252b7097c",
   "metadata": {},
   "outputs": [],
   "source": [
    "import numpy as np\n",
    "\n",
    "# Dataset\n",
    "x = np.array([1, 2, 3])  # Input features\n",
    "y = np.array([2, 4, 6])  # True target values"
   ]
  },
  {
   "cell_type": "code",
   "execution_count": 9,
   "id": "6bd91987-72ea-4671-83bd-22078fc40431",
   "metadata": {},
   "outputs": [],
   "source": [
    "theta_0 = 1  # Intercept\n",
    "theta_1 = 2  # Slope\n",
    "alpha = 0.1  # Learning rate\n",
    "iterations = 100  # Number of iterations"
   ]
  },
  {
   "cell_type": "code",
   "execution_count": 11,
   "id": "059a9919-68ef-4eb1-a614-041e3ab0903e",
   "metadata": {},
   "outputs": [],
   "source": [
    "def hypothesis(x, theta_0, theta_1):\n",
    "    return theta_0 + theta_1 * x"
   ]
  },
  {
   "cell_type": "code",
   "execution_count": 13,
   "id": "a5d36ca9-a207-4c3c-897f-716fdf12481d",
   "metadata": {},
   "outputs": [],
   "source": [
    "def gradient_descent(x, y, theta_0, theta_1, alpha, iterations):\n",
    "    n = len(x)\n",
    "    cost_history = []\n",
    "    \n",
    "    for _ in range(iterations):\n",
    "        predictions = hypothesis(x, theta_0, theta_1)\n",
    "        \n",
    "        gradient_theta_0 = (1 / n) * np.sum(predictions - y)\n",
    "        gradient_theta_1 = (1 / n) * np.sum((predictions - y) * x)\n",
    "        \n",
    "        theta_0 -= alpha * gradient_theta_0\n",
    "        theta_1 -= alpha * gradient_theta_1\n",
    "        \n",
    "        cost = (1 / (2 * n)) * np.sum((predictions - y) ** 2)\n",
    "        cost_history.append(cost)\n",
    "    \n",
    "    return theta_0, theta_1, cost_history"
   ]
  },
  {
   "cell_type": "code",
   "execution_count": 15,
   "id": "00a49b43-0211-4a31-90d7-f1a758a8a251",
   "metadata": {},
   "outputs": [],
   "source": [
    "final_theta_0, final_theta_1, cost_history = gradient_descent(x, y, theta_0, theta_1, alpha, iterations)"
   ]
  },
  {
   "cell_type": "code",
   "execution_count": 17,
   "id": "66a10ac3-bf09-4cf4-9e0e-3fd6f78c1375",
   "metadata": {},
   "outputs": [
    {
     "name": "stdout",
     "output_type": "stream",
     "text": [
      "Final theta_0: 0.25003629647660947\n",
      "Final theta_1: 1.8900086040322317\n",
      "Cost function history over iterations: [0.5, 0.13833333333333342, 0.06566481481481481, 0.05033834362139914, 0.04640687986053951, 0.044756798911108536, 0.043580001891268136, 0.04251737484088758, 0.04149720630809294, 0.040504799639309, 0.03953677776847484, 0.03859201979124975, 0.037669863067746556, 0.036769746371311994, 0.03589113885950293, 0.0350335257408413, 0.03419640519243271, 0.033379287514796865, 0.03258169473601204, 0.031803160310429505, 0.031043228841468068, 0.03030145581438056, 0.02957740733606984, 0.028870659881253438, 0.028180800044720074, 0.027507424299510617, 0.026850138760878578, 0.026208558955891016, 0.025582309598534792, 0.02497102437019647, 0.02437434570538774, 0.023791924582590874, 0.023223420320102002, 0.022668500376752488, 0.022126840157391955, 0.021598122823019983, 0.021082039105453428, 0.020578287126423685, 0.02008657222099513, 0.019606606765204183, 0.019138110007816306, 0.018680807906102964, 0.018234432965543206, 0.017798724083355307, 0.01737342639576705, 0.016958291128935495, 0.016553075453429288, 0.016157542342187775, 0.015771460431874454, 0.01539460388754275, 0.01502675227053653, 0.014667690409546269, 0.014317208274746827, 0.01397510085494231, 0.013641168037646756, 0.013315214492030613, 0.012997049554663038, 0.012686487117986037, 0.01238334552145195, 0.012087447445263105, 0.011798619806650396, 0.011516693658629765, 0.011241504091178762, 0.010972890134773677, 0.01071069466623201, 0.010454764316804721, 0.010204949382464808, 0.009961103736339192, 0.009723084743233157, 0.00949075317619743, 0.009263973135088598, 0.009042611967075568, 0.008826540189045613, 0.008615631411864413, 0.008409762266445958, 0.008208812331589039, 0.008012664063537874, 0.00782120272722605, 0.0076343163291634104, 0.00745189555192654, 0.0072738336902143175, 0.007100026588432078, 0.0069303725797664265, 0.0067647724267163355, 0.006603129263045175, 0.0064453485371196596, 0.006291337956602788, 0.006141007434468231, 0.005994269036304952, 0.005851036928880659, 0.005711227329934501, 0.0055747584591696025, 0.0054415504904160835, 0.005311525504937875, 0.005184607445854713, 0.00506072207365337, 0.004939796922762097, 0.004821761259162422, 0.004706546039013996, 0.0045940838682681645]\n"
     ]
    }
   ],
   "source": [
    "print(f\"Final theta_0: {final_theta_0}\")\n",
    "print(f\"Final theta_1: {final_theta_1}\")\n",
    "print(\"Cost function history over iterations:\", cost_history)"
   ]
  },
  {
   "cell_type": "code",
   "execution_count": null,
   "id": "4f1888fb-6361-4b99-b7ea-9456f739e719",
   "metadata": {},
   "outputs": [],
   "source": []
  }
 ],
 "metadata": {
  "kernelspec": {
   "display_name": "Python 3 (ipykernel)",
   "language": "python",
   "name": "python3"
  },
  "language_info": {
   "codemirror_mode": {
    "name": "ipython",
    "version": 3
   },
   "file_extension": ".py",
   "mimetype": "text/x-python",
   "name": "python",
   "nbconvert_exporter": "python",
   "pygments_lexer": "ipython3",
   "version": "3.12.7"
  }
 },
 "nbformat": 4,
 "nbformat_minor": 5
}
